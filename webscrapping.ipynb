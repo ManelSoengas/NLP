{
  "nbformat": 4,
  "nbformat_minor": 0,
  "metadata": {
    "colab": {
      "provenance": [],
      "authorship_tag": "ABX9TyOCrdTh+FneAHMqnftDq624",
      "include_colab_link": true
    },
    "kernelspec": {
      "name": "python3",
      "display_name": "Python 3"
    },
    "language_info": {
      "name": "python"
    }
  },
  "cells": [
    {
      "cell_type": "markdown",
      "metadata": {
        "id": "view-in-github",
        "colab_type": "text"
      },
      "source": [
        "<a href=\"https://colab.research.google.com/github/ManelSoengas/NLP/blob/main/webscrapping.ipynb\" target=\"_parent\"><img src=\"https://colab.research.google.com/assets/colab-badge.svg\" alt=\"Open In Colab\"/></a>"
      ]
    },
    {
      "cell_type": "code",
      "execution_count": 2,
      "metadata": {
        "colab": {
          "base_uri": "https://localhost:8080/"
        },
        "id": "K3T-HYKkYCMo",
        "outputId": "52501fac-166f-4ffc-ff5e-7a1b4cd06fa8"
      },
      "outputs": [
        {
          "output_type": "stream",
          "name": "stdout",
          "text": [
            "     #                Nom   Població Percentatge\n",
            "0    1         Barcelonès  2.239.915      29,69%\n",
            "1    2  Vallès Occidental    915.486      12,14%\n",
            "2    3     Baix Llobregat    812.146      10,77%\n",
            "3    4            Maresme    442.072       5,86%\n",
            "4    5    Vallès Oriental    405.236       5,37%\n",
            "5    6         Tarragonès    253.582       3,36%\n",
            "6    7             Segrià    204.501       2,71%\n",
            "7    8          Baix Camp    190.004       2,52%\n",
            "8    9            Gironès    186.020       2,47%\n",
            "9   10              Bages    174.703       2,32%\n",
            "10  11              Selva    166.285       2,20%\n",
            "11  12              Osona    156.592       2,08%\n",
            "12  13             Garraf    146.650       1,94%\n",
            "13  14        Alt Empordà    136.981       1,82%\n",
            "14  15       Baix Empordà    131.305       1,74%\n",
            "15  16              Anoia    119.129       1,58%\n",
            "16  17        Alt Penedès    107.724       1,43%\n",
            "17  18       Baix Penedès    101.979       1,35%\n",
            "18  19          Baix Ebre     77.170       1,02%\n",
            "19  20            Montsià     67.875       0,90%\n",
            "20  21        La Garrotxa     55.579       0,74%\n",
            "21  22           Alt Camp     44.168       0,59%\n",
            "22  23           Berguedà     38.980       0,52%\n",
            "23  24         La Noguera     38.206       0,51%\n",
            "24  25       Pla d'Urgell     36.946       0,49%\n",
            "25  26             Urgell     36.024       0,48%\n",
            "26  27    Pla de l'Estany     31.810       0,42%\n",
            "27  28           Ripollès     24.874       0,33%\n",
            "28  29            Segarra     22.422       0,30%\n",
            "29  30      Ribera d'Ebre     21.722       0,29%\n",
            "30  31         Alt Urgell     20.201       0,27%\n",
            "31  32   Conca de Barberà     20.013       0,27%\n",
            "32  33          Garrigues     18.861       0,25%\n",
            "33  34           Cerdanya     17.695       0,23%\n",
            "34  35           Solsonès     13.517       0,18%\n",
            "35  36            Moianès     13.330       0,18%\n",
            "36  37      Pallars Jussà     12.932       0,17%\n",
            "37  38         Terra Alta     11.389       0,15%\n",
            "38  39         Val d'Aran      9.867       0,13%\n",
            "39  40            Priorat      9.221       0,12%\n",
            "40  41     Pallars Sobirà      6.897       0,09%\n",
            "41  42     Alta Ribagorça      3.813       0,05%\n",
            "42   -              Total  7.543.825        100%\n"
          ]
        }
      ],
      "source": [
        "import pandas as pd\n",
        "import requests\n",
        "\n",
        "# URL de la página de Wikipedia\n",
        "url = 'https://ca.wikipedia.org/wiki/Comarques_de_catalunya_per_població'\n",
        "\n",
        "# Realiza la solicitud HTTP para obtener el contenido de la página\n",
        "respuesta = requests.get(url)\n",
        "\n",
        "# Verifica que la solicitud se realizó con éxito\n",
        "if respuesta.status_code == 200:\n",
        "    # Utiliza pandas para leer las tablas de la página web\n",
        "    tablas = pd.read_html(respuesta.text)\n",
        "\n",
        "    # La tabla que nos interesa es típicamente la primera\n",
        "    df = tablas[0]\n",
        "\n",
        "    # Aquí puedes hacer operaciones adicionales con el DataFrame, como limpiar datos o guardar en un archivo\n",
        "    print(df)\n",
        "else:\n",
        "    print(\"Error al obtener la página\")\n"
      ]
    },
    {
      "cell_type": "code",
      "source": [
        "df.info()"
      ],
      "metadata": {
        "colab": {
          "base_uri": "https://localhost:8080/"
        },
        "id": "TPVRJz0GYojn",
        "outputId": "ac504037-db71-448e-ab09-eedf10807878"
      },
      "execution_count": 3,
      "outputs": [
        {
          "output_type": "stream",
          "name": "stdout",
          "text": [
            "<class 'pandas.core.frame.DataFrame'>\n",
            "RangeIndex: 43 entries, 0 to 42\n",
            "Data columns (total 4 columns):\n",
            " #   Column       Non-Null Count  Dtype \n",
            "---  ------       --------------  ----- \n",
            " 0   #            43 non-null     object\n",
            " 1   Nom          43 non-null     object\n",
            " 2   Població     43 non-null     object\n",
            " 3   Percentatge  43 non-null     object\n",
            "dtypes: object(4)\n",
            "memory usage: 1.5+ KB\n"
          ]
        }
      ]
    }
  ]
}
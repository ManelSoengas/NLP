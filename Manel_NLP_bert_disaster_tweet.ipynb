{
  "nbformat": 4,
  "nbformat_minor": 0,
  "metadata": {
    "colab": {
      "provenance": [],
      "gpuType": "T4",
      "authorship_tag": "ABX9TyPuh5knBGu19vvddpX9YezH",
      "include_colab_link": true
    },
    "kernelspec": {
      "name": "python3",
      "display_name": "Python 3"
    },
    "language_info": {
      "name": "python"
    },
    "accelerator": "GPU"
  },
  "cells": [
    {
      "cell_type": "markdown",
      "metadata": {
        "id": "view-in-github",
        "colab_type": "text"
      },
      "source": [
        "<a href=\"https://colab.research.google.com/github/ManelSoengas/NLP/blob/main/Manel_NLP_bert_disaster_tweet.ipynb\" target=\"_parent\"><img src=\"https://colab.research.google.com/assets/colab-badge.svg\" alt=\"Open In Colab\"/></a>"
      ]
    },
    {
      "cell_type": "markdown",
      "source": [
        "\n",
        "# **Install and load the necessary libraries**"
      ],
      "metadata": {
        "id": "iOu-O8-FD6Wt"
      }
    },
    {
      "cell_type": "code",
      "execution_count": null,
      "metadata": {
        "colab": {
          "base_uri": "https://localhost:8080/"
        },
        "id": "8QcU6j-_52Qp",
        "outputId": "8586db75-1973-4691-958d-7bcc3d348023"
      },
      "outputs": [
        {
          "output_type": "stream",
          "name": "stdout",
          "text": [
            "Requirement already satisfied: transformers in /usr/local/lib/python3.10/dist-packages (4.35.2)\n",
            "Requirement already satisfied: filelock in /usr/local/lib/python3.10/dist-packages (from transformers) (3.13.1)\n",
            "Requirement already satisfied: huggingface-hub<1.0,>=0.16.4 in /usr/local/lib/python3.10/dist-packages (from transformers) (0.19.4)\n",
            "Requirement already satisfied: numpy>=1.17 in /usr/local/lib/python3.10/dist-packages (from transformers) (1.23.5)\n",
            "Requirement already satisfied: packaging>=20.0 in /usr/local/lib/python3.10/dist-packages (from transformers) (23.2)\n",
            "Requirement already satisfied: pyyaml>=5.1 in /usr/local/lib/python3.10/dist-packages (from transformers) (6.0.1)\n",
            "Requirement already satisfied: regex!=2019.12.17 in /usr/local/lib/python3.10/dist-packages (from transformers) (2023.6.3)\n",
            "Requirement already satisfied: requests in /usr/local/lib/python3.10/dist-packages (from transformers) (2.31.0)\n",
            "Requirement already satisfied: tokenizers<0.19,>=0.14 in /usr/local/lib/python3.10/dist-packages (from transformers) (0.15.0)\n",
            "Requirement already satisfied: safetensors>=0.3.1 in /usr/local/lib/python3.10/dist-packages (from transformers) (0.4.1)\n",
            "Requirement already satisfied: tqdm>=4.27 in /usr/local/lib/python3.10/dist-packages (from transformers) (4.66.1)\n",
            "Requirement already satisfied: fsspec>=2023.5.0 in /usr/local/lib/python3.10/dist-packages (from huggingface-hub<1.0,>=0.16.4->transformers) (2023.6.0)\n",
            "Requirement already satisfied: typing-extensions>=3.7.4.3 in /usr/local/lib/python3.10/dist-packages (from huggingface-hub<1.0,>=0.16.4->transformers) (4.5.0)\n",
            "Requirement already satisfied: charset-normalizer<4,>=2 in /usr/local/lib/python3.10/dist-packages (from requests->transformers) (3.3.2)\n",
            "Requirement already satisfied: idna<4,>=2.5 in /usr/local/lib/python3.10/dist-packages (from requests->transformers) (3.6)\n",
            "Requirement already satisfied: urllib3<3,>=1.21.1 in /usr/local/lib/python3.10/dist-packages (from requests->transformers) (2.0.7)\n",
            "Requirement already satisfied: certifi>=2017.4.17 in /usr/local/lib/python3.10/dist-packages (from requests->transformers) (2023.11.17)\n"
          ]
        }
      ],
      "source": [
        "import pandas as pd\n",
        "from sklearn.model_selection import train_test_split\n",
        "!pip install transformers\n",
        "from transformers import BertTokenizer, TFBertForSequenceClassification\n",
        "\n",
        "#transformers\n",
        "from transformers import BertTokenizerFast\n",
        "from transformers import TFBertModel\n",
        "from transformers import RobertaTokenizerFast\n",
        "from transformers import TFRobertaModel"
      ]
    },
    {
      "cell_type": "markdown",
      "source": [
        "# **Load the Dataset**."
      ],
      "metadata": {
        "id": "pT1rO2wrENC1"
      }
    },
    {
      "cell_type": "code",
      "source": [
        "from sklearn.utils import shuffle\n",
        "# Cargar datos preprocesados\n",
        "#train_data = pd.read_csv('/content/EXIST2021_training.tsv', delimiter=',', encoding='latin1')\n",
        "#test_data = pd.read_csv('/content/EXIST2021_test_labeled.tsv', delimiter=',', encoding='latin1')\n",
        "\n",
        "test_data = pd.read_csv('/content/test.csv', sep=',')\n",
        "train_data = pd.read_csv('/content/train.csv', sep=',')\n"
      ],
      "metadata": {
        "id": "SisZtiqY59BE"
      },
      "execution_count": null,
      "outputs": []
    },
    {
      "cell_type": "markdown",
      "source": [
        "# **Split the Dataset**"
      ],
      "metadata": {
        "id": "qqM6IggiEZzH"
      }
    },
    {
      "cell_type": "code",
      "source": [
        "from sklearn.model_selection import train_test_split\n",
        "\n",
        "# Suponiendo que 'train_data' es tu DataFrame\n",
        "train_texts, val_texts, train_labels, val_labels = train_test_split(train_data['text'], train_data['target'], test_size=.2)\n"
      ],
      "metadata": {
        "id": "GhlGgAFw9xdc"
      },
      "execution_count": null,
      "outputs": []
    },
    {
      "cell_type": "markdown",
      "source": [
        "# **Initialize Lists for Entry IDs and Attention Masks:**\n",
        "\n",
        "---\n",
        "\n",
        "\n",
        "\n",
        "**input_ids**: A list to store the tokenized IDs of each text.\n",
        "\n",
        "**attention_masks**: A list to store attention masks, which tell BERT which parts of the text to consider and which to ignore (e.g. padding).\n",
        "\n",
        "**Processing of Each Text**:\n",
        "\n",
        "**For each text in texts**:\n",
        "\n",
        "**Tokenizer.encode_plus** performs several steps:\n",
        "\n",
        "1. Tokenize the text.\n",
        "2. Adds special tokens '[CLS]' and '[SEP]' required for BERT.\n",
        "3. Truncates or pads the text up to max_length.\n",
        "4. Create an attention mask to distinguish real tokens from filler.\n",
        "\n",
        "The tokenized IDs and attention masks are added to their respective lists.\n",
        "\n",
        "**Converting Lists to PyTorch Tensors**:\n",
        "\n",
        "**torch.cat converts** lists of IDs and attention masks into PyTorch tensors.\n",
        "\n",
        "**Prepare the Labels**:\n",
        "\n",
        "The labels (classification targets) are converted to a PyTorch tensor.\n",
        "\n",
        "**Create a TensorDataset**:\n",
        "\n",
        "A TensorDataset is created with the input IDs, attention masks, and labels, making it easy to load the data into the model."
      ],
      "metadata": {
        "id": "Gm4uNdGtE_so"
      }
    },
    {
      "cell_type": "code",
      "source": [
        "from transformers import BertTokenizer\n",
        "import torch\n",
        "from torch.utils.data import TensorDataset, DataLoader, RandomSampler, SequentialSampler\n",
        "\n",
        "tokenizer = BertTokenizer.from_pretrained('bert-base-uncased')\n",
        "\n",
        "def prepare_data(texts, labels):\n",
        "    input_ids = []\n",
        "    attention_masks = []\n",
        "\n",
        "    for text in texts:\n",
        "        encoded_dict = tokenizer.encode_plus(\n",
        "                            text,\n",
        "                            add_special_tokens=True,  # Añadir '[CLS]' y '[SEP]'\n",
        "                            max_length=64,            # Longitud máxima (ajustable)\n",
        "                            truncation=True,          # Activar la truncación explícitamente\n",
        "                            padding='max_length',     # Rellenar hasta la longitud máxima especificada\n",
        "                            return_attention_mask=True,\n",
        "                            return_tensors='pt',      # Retornar tensores PyTorch\n",
        "                        )\n",
        "\n",
        "        input_ids.append(encoded_dict['input_ids'])\n",
        "        attention_masks.append(encoded_dict['attention_mask'])\n",
        "\n",
        "    input_ids = torch.cat(input_ids, dim=0)\n",
        "    attention_masks = torch.cat(attention_masks, dim=0)\n",
        "\n",
        "    # Convertir las etiquetas a una lista si es una Serie de pandas y luego a un tensor\n",
        "    labels = torch.tensor(labels.tolist())\n",
        "\n",
        "    dataset = TensorDataset(input_ids, attention_masks, labels)\n",
        "    return dataset\n",
        "\n",
        "\n",
        "\n",
        "train_dataset = prepare_data(train_texts, train_labels)\n",
        "val_dataset = prepare_data(val_texts, val_labels)\n"
      ],
      "metadata": {
        "id": "T4Wpr-6w6Chi"
      },
      "execution_count": null,
      "outputs": []
    },
    {
      "cell_type": "code",
      "source": [
        "def prepare_data_for_test(texts):\n",
        "    input_ids = []\n",
        "    attention_masks = []\n",
        "\n",
        "    for text in texts:\n",
        "        encoded_dict = tokenizer.encode_plus(\n",
        "                            text,\n",
        "                            add_special_tokens=True,\n",
        "                            max_length=64,\n",
        "                            truncation=True,\n",
        "                            padding='max_length',\n",
        "                            return_attention_mask=True,\n",
        "                            return_tensors='pt',\n",
        "                        )\n",
        "\n",
        "        input_ids.append(encoded_dict['input_ids'])\n",
        "        attention_masks.append(encoded_dict['attention_mask'])\n",
        "\n",
        "    input_ids = torch.cat(input_ids, dim=0)\n",
        "    attention_masks = torch.cat(attention_masks, dim=0)\n",
        "\n",
        "    dataset = TensorDataset(input_ids, attention_masks)\n",
        "    return dataset\n",
        "\n",
        "test_dataset = prepare_data_for_test(test_data['text'])\n"
      ],
      "metadata": {
        "id": "LbEsBxATCldw"
      },
      "execution_count": null,
      "outputs": []
    },
    {
      "cell_type": "markdown",
      "source": [
        "# **These DataLoaders**\n",
        "\n",
        "---\n",
        "\n",
        "\n",
        "\n",
        "Will take your data sets and convert them into batch sequences of data that are easy to handle during training and validation of your model. Choosing to mix training data and not validation data is a standard practice that helps train robust and well-generalized models."
      ],
      "metadata": {
        "id": "66rwQgYfGUgR"
      }
    },
    {
      "cell_type": "code",
      "source": [
        "batch_size = 32 # Ajusta esto según tus necesidades\n",
        "\n",
        "train_dataloader = DataLoader(\n",
        "    train_dataset,\n",
        "    sampler = RandomSampler(train_dataset),\n",
        "    batch_size = batch_size\n",
        ")\n",
        "\n",
        "validation_dataloader = DataLoader(\n",
        "    val_dataset,\n",
        "    sampler = SequentialSampler(val_dataset),\n",
        "    batch_size = batch_size\n",
        ")\n",
        "\n"
      ],
      "metadata": {
        "id": "0f2bNcqP6OgQ"
      },
      "execution_count": null,
      "outputs": []
    },
    {
      "cell_type": "code",
      "source": [
        "test_dataloader = DataLoader(\n",
        "    test_dataset,\n",
        "    sampler=SequentialSampler(test_dataset),\n",
        "    batch_size=32  # Puedes ajustar esto según tus necesidades\n",
        ")\n"
      ],
      "metadata": {
        "id": "Kht19i4BC0Li"
      },
      "execution_count": null,
      "outputs": []
    },
    {
      "cell_type": "markdown",
      "source": [
        "# **Model BERT**\n",
        "\n",
        "Configuring a BERT (Bidirectional Encoder Representations from Transformers) model for a classification task and preparing it for training.\n",
        "\n"
      ],
      "metadata": {
        "id": "ipRJy3JtHWDW"
      }
    },
    {
      "cell_type": "code",
      "source": [
        "from transformers import BertForSequenceClassification, AdamW, get_linear_schedule_with_warmup\n",
        "import torch\n",
        "\n",
        "# Configurar dispositivo para entrenamiento\n",
        "device = torch.device(\"cuda\" if torch.cuda.is_available() else \"cpu\")\n",
        "\n",
        "model = BertForSequenceClassification.from_pretrained(\n",
        "    \"bert-base-uncased\",\n",
        "    num_labels = 2, # El número de clases en tu columna 'target'\n",
        "    output_attentions = False, # Si quieres que el modelo retorne las atenciones\n",
        "    output_hidden_states = False, # Si quieres que el modelo retorne los estados ocultos\n",
        ")\n",
        "\n",
        "model.to(device)\n"
      ],
      "metadata": {
        "colab": {
          "base_uri": "https://localhost:8080/"
        },
        "id": "FmlJlwpu7i3y",
        "outputId": "36a5eb4f-afc6-4ab2-c337-351b8c648fba"
      },
      "execution_count": null,
      "outputs": [
        {
          "output_type": "stream",
          "name": "stderr",
          "text": [
            "Some weights of BertForSequenceClassification were not initialized from the model checkpoint at bert-base-uncased and are newly initialized: ['classifier.bias', 'classifier.weight']\n",
            "You should probably TRAIN this model on a down-stream task to be able to use it for predictions and inference.\n"
          ]
        },
        {
          "output_type": "execute_result",
          "data": {
            "text/plain": [
              "BertForSequenceClassification(\n",
              "  (bert): BertModel(\n",
              "    (embeddings): BertEmbeddings(\n",
              "      (word_embeddings): Embedding(30522, 768, padding_idx=0)\n",
              "      (position_embeddings): Embedding(512, 768)\n",
              "      (token_type_embeddings): Embedding(2, 768)\n",
              "      (LayerNorm): LayerNorm((768,), eps=1e-12, elementwise_affine=True)\n",
              "      (dropout): Dropout(p=0.1, inplace=False)\n",
              "    )\n",
              "    (encoder): BertEncoder(\n",
              "      (layer): ModuleList(\n",
              "        (0-11): 12 x BertLayer(\n",
              "          (attention): BertAttention(\n",
              "            (self): BertSelfAttention(\n",
              "              (query): Linear(in_features=768, out_features=768, bias=True)\n",
              "              (key): Linear(in_features=768, out_features=768, bias=True)\n",
              "              (value): Linear(in_features=768, out_features=768, bias=True)\n",
              "              (dropout): Dropout(p=0.1, inplace=False)\n",
              "            )\n",
              "            (output): BertSelfOutput(\n",
              "              (dense): Linear(in_features=768, out_features=768, bias=True)\n",
              "              (LayerNorm): LayerNorm((768,), eps=1e-12, elementwise_affine=True)\n",
              "              (dropout): Dropout(p=0.1, inplace=False)\n",
              "            )\n",
              "          )\n",
              "          (intermediate): BertIntermediate(\n",
              "            (dense): Linear(in_features=768, out_features=3072, bias=True)\n",
              "            (intermediate_act_fn): GELUActivation()\n",
              "          )\n",
              "          (output): BertOutput(\n",
              "            (dense): Linear(in_features=3072, out_features=768, bias=True)\n",
              "            (LayerNorm): LayerNorm((768,), eps=1e-12, elementwise_affine=True)\n",
              "            (dropout): Dropout(p=0.1, inplace=False)\n",
              "          )\n",
              "        )\n",
              "      )\n",
              "    )\n",
              "    (pooler): BertPooler(\n",
              "      (dense): Linear(in_features=768, out_features=768, bias=True)\n",
              "      (activation): Tanh()\n",
              "    )\n",
              "  )\n",
              "  (dropout): Dropout(p=0.1, inplace=False)\n",
              "  (classifier): Linear(in_features=768, out_features=2, bias=True)\n",
              ")"
            ]
          },
          "metadata": {},
          "execution_count": 18
        }
      ]
    },
    {
      "cell_type": "markdown",
      "source": [
        "# **Training setup and model loading.**"
      ],
      "metadata": {
        "id": "7oqCguuPH4Yg"
      }
    },
    {
      "cell_type": "code",
      "source": [
        "\n",
        "from transformers import BertForSequenceClassification, get_linear_schedule_with_warmup\n",
        "import torch\n",
        "from torch.optim import AdamW\n",
        "\n",
        "# Configurar dispositivo para entrenamiento\n",
        "device = torch.device(\"cuda\" if torch.cuda.is_available() else \"cpu\")\n",
        "\n",
        "model = BertForSequenceClassification.from_pretrained(\n",
        "    \"bert-base-uncased\",\n",
        "    num_labels = 2,\n",
        "    output_attentions = False,\n",
        "    output_hidden_states = False,\n",
        ")\n",
        "\n",
        "model.to(device)\n",
        "\n",
        "# Definir el número de epochs\n",
        "epochs = 4\n",
        "\n",
        "# Definir el Optimizador y el Scheduler\n",
        "optimizer = AdamW(model.parameters(),\n",
        "                  lr = 2e-5,\n",
        "                  eps = 1e-8)\n",
        "\n",
        "# Número total de pasos de entrenamiento\n",
        "total_steps = len(train_dataloader) * epochs\n",
        "\n",
        "scheduler = get_linear_schedule_with_warmup(optimizer,\n",
        "                                            num_warmup_steps = 0,\n",
        "                                            num_training_steps = total_steps)\n",
        "\n",
        "# Ahora, puedes proceder con el entrenamiento del modelo como en el paso 3.\n"
      ],
      "metadata": {
        "colab": {
          "base_uri": "https://localhost:8080/"
        },
        "id": "GjYNMPWR7laF",
        "outputId": "9c468897-e779-4703-81c0-315ddd350971"
      },
      "execution_count": null,
      "outputs": [
        {
          "output_type": "stream",
          "name": "stderr",
          "text": [
            "Some weights of BertForSequenceClassification were not initialized from the model checkpoint at bert-base-uncased and are newly initialized: ['classifier.bias', 'classifier.weight']\n",
            "You should probably TRAIN this model on a down-stream task to be able to use it for predictions and inference.\n"
          ]
        }
      ]
    },
    {
      "cell_type": "markdown",
      "source": [
        "\n",
        "# **The complete process of training and validating a BERT model for a classification task**.\n",
        "\n",
        "---\n",
        "\n",
        "\n",
        "\n",
        "It is run through a defined number of epochs and in each epoch, the model is trained with the training data set and then validated with the validation data set.\n",
        "\n"
      ],
      "metadata": {
        "id": "POpi-mXfIklX"
      }
    },
    {
      "cell_type": "code",
      "source": [
        "epochs = 4 # Puedes ajustar el número de épocas\n",
        "\n",
        "from sklearn.metrics import accuracy_score\n",
        "import numpy as np\n",
        "\n",
        "epochs = 4  # Puedes ajustar el número de épocas\n",
        "\n",
        "for epoch_i in range(0, epochs):\n",
        "    print('======== Época {:} / {:} ========'.format(epoch_i + 1, epochs))\n",
        "\n",
        "    # Entrenamiento\n",
        "    total_loss = 0\n",
        "    model.train()\n",
        "\n",
        "    for step, batch in enumerate(train_dataloader):\n",
        "        b_input_ids, b_input_mask, b_labels = batch\n",
        "        b_input_ids = b_input_ids.to(device)\n",
        "        b_input_mask = b_input_mask.to(device)\n",
        "        b_labels = b_labels.to(device)\n",
        "\n",
        "        model.zero_grad()\n",
        "\n",
        "        outputs = model(b_input_ids, token_type_ids=None, attention_mask=b_input_mask, labels=b_labels)\n",
        "\n",
        "        loss = outputs.loss\n",
        "        total_loss += loss.item()\n",
        "        loss.backward()\n",
        "\n",
        "        torch.nn.utils.clip_grad_norm_(model.parameters(), 1.0)\n",
        "\n",
        "        optimizer.step()\n",
        "        scheduler.step()\n",
        "\n",
        "    avg_train_loss = total_loss / len(train_dataloader)\n",
        "    print(\"  Pérdida promedio en entrenamiento: {0:.2f}\".format(avg_train_loss))\n",
        "\n",
        "    # Validación\n",
        "    model.eval()\n",
        "    total_eval_accuracy = 0\n",
        "    total_eval_loss = 0\n",
        "\n",
        "    for batch in validation_dataloader:\n",
        "        b_input_ids, b_input_mask, b_labels = batch\n",
        "        b_input_ids = b_input_ids.to(device)\n",
        "        b_input_mask = b_input_mask.to(device)\n",
        "        b_labels = b_labels.to(device)\n",
        "\n",
        "        with torch.no_grad():\n",
        "            outputs = model(b_input_ids, token_type_ids=None, attention_mask=b_input_mask, labels=b_labels)\n",
        "\n",
        "        loss = outputs.loss\n",
        "        total_eval_loss += loss.item()\n",
        "\n",
        "        logits = outputs.logits\n",
        "        logits = logits.detach().cpu().numpy()\n",
        "        label_ids = b_labels.to('cpu').numpy()\n",
        "\n",
        "        total_eval_accuracy += accuracy_score(label_ids, np.argmax(logits, axis=1))\n",
        "\n",
        "    avg_val_accuracy = total_eval_accuracy / len(validation_dataloader)\n",
        "    avg_val_loss = total_eval_loss / len(validation_dataloader)\n",
        "\n",
        "    print(\"  Precisión en validación: {0:.2f}\".format(avg_val_accuracy))\n",
        "    print(\"  Pérdida promedio en validación: {0:.2f}\".format(avg_val_loss))\n",
        "\n",
        "print(\"Entrenamiento completo\")\n",
        "\n"
      ],
      "metadata": {
        "colab": {
          "base_uri": "https://localhost:8080/"
        },
        "id": "SEQxyyMJ7zAL",
        "outputId": "a31812c6-1804-4092-ca1a-5e7570fe5719"
      },
      "execution_count": null,
      "outputs": [
        {
          "output_type": "stream",
          "name": "stdout",
          "text": [
            "======== Época 1 / 4 ========\n",
            "  Pérdida promedio en entrenamiento: 0.46\n",
            "  Precisión en validación: 0.84\n",
            "  Pérdida promedio en validación: 0.38\n",
            "======== Época 2 / 4 ========\n",
            "  Pérdida promedio en entrenamiento: 0.33\n",
            "  Precisión en validación: 0.85\n",
            "  Pérdida promedio en validación: 0.38\n",
            "======== Época 3 / 4 ========\n",
            "  Pérdida promedio en entrenamiento: 0.26\n",
            "  Precisión en validación: 0.85\n",
            "  Pérdida promedio en validación: 0.42\n",
            "======== Época 4 / 4 ========\n",
            "  Pérdida promedio en entrenamiento: 0.21\n",
            "  Precisión en validación: 0.84\n",
            "  Pérdida promedio en validación: 0.47\n",
            "Entrenamiento completo\n"
          ]
        }
      ]
    },
    {
      "cell_type": "code",
      "source": [
        "model.eval()\n",
        "predictions = []\n",
        "\n",
        "for batch in test_dataloader:\n",
        "    batch = tuple(t.to(device) for t in batch)\n",
        "    b_input_ids, b_input_mask = batch\n",
        "\n",
        "    with torch.no_grad():\n",
        "        outputs = model(b_input_ids, token_type_ids=None, attention_mask=b_input_mask)\n",
        "\n",
        "    logits = outputs.logits\n",
        "    logits = logits.detach().cpu().numpy()\n",
        "    predictions.extend(np.argmax(logits, axis=1))\n",
        "\n",
        "# `predictions` ahora contiene las predicciones de clase para tu conjunto de test\n"
      ],
      "metadata": {
        "id": "M8bEkHaAC5k9"
      },
      "execution_count": null,
      "outputs": []
    },
    {
      "cell_type": "code",
      "source": [
        "# Mostrar las primeras 10 predicciones\n",
        "for i in range(10):\n",
        "    print(f\"Texto: {test_data['text'].iloc[i]}\")\n",
        "    print(f\"Predicción: {predictions[i]}\\n\")\n"
      ],
      "metadata": {
        "colab": {
          "base_uri": "https://localhost:8080/"
        },
        "id": "2JOYzEEyDOfc",
        "outputId": "8dc318d9-2351-4dee-d753-1fb70c06a422"
      },
      "execution_count": null,
      "outputs": [
        {
          "output_type": "stream",
          "name": "stdout",
          "text": [
            "Texto: Just happened a terrible car crash\n",
            "Predicción: 1\n",
            "\n",
            "Texto: Heard about #earthquake is different cities, stay safe everyone.\n",
            "Predicción: 1\n",
            "\n",
            "Texto: there is a forest fire at spot pond, geese are fleeing across the street, I cannot save them all\n",
            "Predicción: 1\n",
            "\n",
            "Texto: Apocalypse lighting. #Spokane #wildfires\n",
            "Predicción: 1\n",
            "\n",
            "Texto: Typhoon Soudelor kills 28 in China and Taiwan\n",
            "Predicción: 1\n",
            "\n",
            "Texto: We're shaking...It's an earthquake\n",
            "Predicción: 1\n",
            "\n",
            "Texto: They'd probably still show more life than Arsenal did yesterday, eh? EH?\n",
            "Predicción: 0\n",
            "\n",
            "Texto: Hey! How are you?\n",
            "Predicción: 0\n",
            "\n",
            "Texto: What a nice hat?\n",
            "Predicción: 0\n",
            "\n",
            "Texto: Fuck off!\n",
            "Predicción: 0\n",
            "\n"
          ]
        }
      ]
    },
    {
      "cell_type": "code",
      "source": [
        "import matplotlib.pyplot as plt\n",
        "\n",
        "# Histograma de las predicciones\n",
        "plt.hist(predictions, bins=np.arange(min(predictions)-0.5, max(predictions)+1.5, 1), rwidth=0.8)\n",
        "plt.xticks([0, 1])\n",
        "plt.xlabel('Clase Predicha')\n",
        "plt.ylabel('Frecuencia')\n",
        "plt.title('Distribución de las Predicciones del Conjunto de Test')\n",
        "plt.show()\n"
      ],
      "metadata": {
        "colab": {
          "base_uri": "https://localhost:8080/",
          "height": 472
        },
        "id": "mTYrPb3HDp7k",
        "outputId": "d5e3b5ab-4f8c-403a-f2a1-8db4fe57d38c"
      },
      "execution_count": null,
      "outputs": [
        {
          "output_type": "display_data",
          "data": {
            "text/plain": [
              "<Figure size 640x480 with 1 Axes>"
            ],
            "image/png": "[encoded data removed]"
          },
          "metadata": {}
        }
      ]
    }
  ]
}
{
  "nbformat": 4,
  "nbformat_minor": 0,
  "metadata": {
    "colab": {
      "provenance": [],
      "gpuType": "T4",
      "include_colab_link": true
    },
    "kernelspec": {
      "name": "python3",
      "display_name": "Python 3"
    },
    "language_info": {
      "name": "python"
    },
    "accelerator": "GPU"
  },
  "cells": [
    {
      "cell_type": "markdown",
      "metadata": {
        "id": "view-in-github",
        "colab_type": "text"
      },
      "source": [
        "<a href=\"https://colab.research.google.com/github/ManelSoengas/NLP/blob/main/Article_ML_Task1.ipynb\" target=\"_parent\"><img src=\"https://colab.research.google.com/assets/colab-badge.svg\" alt=\"Open In Colab\"/></a>"
      ]
    },
    {
      "cell_type": "markdown",
      "source": [
        "<font color=\"blue\"><h1>**MACHINE LEARNING**</h1></font>\n",
        "\n",
        "---\n",
        "\n",
        "\n",
        "\n",
        "Aplicados al conjunto de datos original los siguientes procesos :\n",
        "\n",
        "1.   Pre-procesado.\n",
        "2.   Tokenización y lematización.\n",
        "3.   Eliminación de stopswords.\n",
        "\n",
        "El proceso se ha aplicado a los idiomas Español e Inglés por separado y generando dos archivos :\n",
        "\n",
        "\n",
        "\n",
        "*   clean_test_task2.csv\n",
        "*   clean_train_task2.csv\n",
        "\n",
        "\n",
        "\n",
        "El siguiente paso es aplicar un conjunto de algoritmos y evaluar los modelos obtenidos.\n",
        "\n",
        "Se aplican los siguientes algoritmos :\n",
        "\n",
        "1.   SVC.\n",
        "2.   Arbol de decisión.\n",
        "3.   XGBoost.\n",
        "4.   NB_Multinomial."
      ],
      "metadata": {
        "id": "Qax5mtERy0V5"
      }
    },
    {
      "cell_type": "markdown",
      "source": [
        "Visaulizar el preprocesamiento realizado con alguna frase, para ver el funcionamiento.\n",
        "Probar separando los idiomas y entrenado por idiomas.\n",
        "Realizar pruebas sin preperocesamiento para comparar."
      ],
      "metadata": {
        "id": "caS-xdl46hlv"
      }
    },
    {
      "cell_type": "code",
      "source": [
        "# Carga de las librerías y paquetes necesarios\n",
        "\n",
        "import pandas as pd\n",
        "import re\n",
        "import nltk\n",
        "from nltk.tokenize import word_tokenize\n",
        "from nltk.stem import SnowballStemmer\n",
        "from nltk.corpus import stopwords\n",
        "from sklearn.feature_extraction.text import TfidfVectorizer\n",
        "from sklearn.model_selection import train_test_split\n",
        "from sklearn.svm import SVC\n",
        "from sklearn.metrics import classification_report\n",
        "from sklearn.preprocessing import LabelEncoder\n",
        "from sklearn.model_selection import GridSearchCV\n",
        "from sklearn.pipeline import make_pipeline\n",
        "from nltk.stem import WordNetLemmatizer\n",
        "\n",
        "nltk.download('averaged_perceptron_tagger')\n",
        "nltk.download('punkt')\n",
        "nltk.download('wordnet')\n",
        "nltk.download('stopwords')"
      ],
      "metadata": {
        "colab": {
          "base_uri": "https://localhost:8080/"
        },
        "id": "WbqhEWocWLFp",
        "outputId": "2aa5dba9-3d0a-4e22-eecb-2155ce00d908"
      },
      "execution_count": 2,
      "outputs": [
        {
          "output_type": "stream",
          "name": "stderr",
          "text": [
            "[nltk_data] Downloading package averaged_perceptron_tagger to\n",
            "[nltk_data]     /root/nltk_data...\n",
            "[nltk_data]   Package averaged_perceptron_tagger is already up-to-\n",
            "[nltk_data]       date!\n",
            "[nltk_data] Downloading package punkt to /root/nltk_data...\n",
            "[nltk_data]   Unzipping tokenizers/punkt.zip.\n",
            "[nltk_data] Downloading package wordnet to /root/nltk_data...\n",
            "[nltk_data]   Package wordnet is already up-to-date!\n",
            "[nltk_data] Downloading package stopwords to /root/nltk_data...\n",
            "[nltk_data]   Package stopwords is already up-to-date!\n"
          ]
        },
        {
          "output_type": "execute_result",
          "data": {
            "text/plain": [
              "True"
            ]
          },
          "metadata": {},
          "execution_count": 2
        }
      ]
    },
    {
      "cell_type": "code",
      "source": [
        "# Datos de entrenamiento\n",
        "import pandas as pd\n",
        "\n",
        "train = pd.read_csv(\"/content/EXIST2021_training.tsv\", delimiter='\\t', usecols=['language','text', 'task1'], quoting=3, error_bad_lines=False)\n",
        "test = pd.read_csv(\"/content/EXIST2021_test_labeled.tsv\", delimiter='\\t', usecols=['language','text', 'task1'], quoting=3, error_bad_lines=False)"
      ],
      "metadata": {
        "colab": {
          "base_uri": "https://localhost:8080/"
        },
        "id": "U-N7WY5yYM-W",
        "outputId": "d3a1b1ef-6887-41a8-c120-066be1dbd229"
      },
      "execution_count": 3,
      "outputs": [
        {
          "output_type": "stream",
          "name": "stderr",
          "text": [
            "<ipython-input-3-b9aa87fd531b>:4: FutureWarning: The error_bad_lines argument has been deprecated and will be removed in a future version. Use on_bad_lines in the future.\n",
            "\n",
            "\n",
            "  train = pd.read_csv(\"/content/EXIST2021_training.tsv\", delimiter='\\t', usecols=['language','text', 'task1'], quoting=3, error_bad_lines=False)\n",
            "<ipython-input-3-b9aa87fd531b>:5: FutureWarning: The error_bad_lines argument has been deprecated and will be removed in a future version. Use on_bad_lines in the future.\n",
            "\n",
            "\n",
            "  test = pd.read_csv(\"/content/EXIST2021_test_labeled.tsv\", delimiter='\\t', usecols=['language','text', 'task1'], quoting=3, error_bad_lines=False)\n"
          ]
        }
      ]
    },
    {
      "cell_type": "code",
      "source": [
        "print(test.head())"
      ],
      "metadata": {
        "colab": {
          "base_uri": "https://localhost:8080/"
        },
        "id": "MBHYKYHEdHTE",
        "outputId": "48f521c5-5dda-4059-c9c8-9f74b877f2be"
      },
      "execution_count": null,
      "outputs": [
        {
          "output_type": "stream",
          "name": "stdout",
          "text": [
            "  language                                               text       task1\n",
            "0       en  Pennsylvania State Rep horrifies with opening ...  non-sexist\n",
            "1       en  @iilovegrapes He sounds like as ass, and very ...  non-sexist\n",
            "2       en  \"@averyangryskel1 @4ARealistParty LOL! \"\"This ...      sexist\n",
            "3       en  @WanderOrange @stalliontwink Rights?I mean yea...      sexist\n",
            "4       en  the jack manifold appreciation i’m seeing is o...  non-sexist\n"
          ]
        }
      ]
    },
    {
      "cell_type": "markdown",
      "source": [
        "<font color=\"brown\"><h1>**Preprocesado**</h1></font>\n",
        "\n",
        "\n",
        "\n",
        "1.   Para el idioma Inglés.\n",
        "2.   Para el idioma Español.\n",
        "3.   Concatenación de los data_frame de cada idioma preprocesado.\n",
        "\n"
      ],
      "metadata": {
        "id": "2hAYJ9P9zcib"
      }
    },
    {
      "cell_type": "code",
      "source": [
        "# Pre-procesamiento par el idioma Inglés\n",
        "\n",
        "import re\n",
        "from nltk.corpus import wordnet\n",
        "from nltk.stem import WordNetLemmatizer\n",
        "from nltk.corpus import stopwords\n",
        "import nltk\n",
        "import pandas as pd\n",
        "\n",
        "nltk.download('averaged_perceptron_tagger')\n",
        "nltk.download('wordnet')\n",
        "nltk.download('stopwords')\n",
        "\n",
        "# Función para mapear las etiquetas POS a las etiquetas de WordNet\n",
        "\n",
        "def get_wordnet_pos(word):\n",
        "    tag = nltk.pos_tag([word])[0][1][0].upper()\n",
        "    tag_dict = {\"J\": wordnet.ADJ,\n",
        "                \"N\": wordnet.NOUN,\n",
        "                \"V\": wordnet.VERB,\n",
        "                \"R\": wordnet.ADV}\n",
        "    return tag_dict.get(tag, wordnet.NOUN)\n",
        "\n",
        "# Función para preprocesar el texto\n",
        "\n",
        "def preprocess_text(text):\n",
        "    # Eliminar usuarios identificados por @\n",
        "    text = re.sub(r'@\\S+', '', text)\n",
        "\n",
        "    # Eliminar URL's y links\n",
        "    text = re.sub(r'https?:\\/\\/\\S+', '', text)\n",
        "\n",
        "    text = re.sub(r\"www\\.[a-z]?\\.?(com)+|[a-z]+\\.(com)\", '', text)\n",
        "\n",
        "    # Elimina referencias link o video\n",
        "\n",
        "    text = re.sub(r'{link}', '', text)\n",
        "    text = re.sub(r\"\\[video\\]\", '', text)\n",
        "\n",
        "    # Elimina entidades HTML\n",
        "    text = re.sub(r'&[a-z]+;', '', text)\n",
        "\n",
        "    # Eliminar caracteres especiales y convertir a minúsculas\n",
        "    text = re.sub(r'[^a-zA-Z\\s]', '', text.lower())\n",
        "\n",
        "    # Elimnar los caracteres que no coincidan con el patrón\n",
        "    text = re.sub(r\"[^a-z\\s\\(\\-:\\)\\\\\\/\\];='#]\", '', text)\n",
        "\n",
        "\n",
        "    # Tokenizar el texto\n",
        "    tokens = nltk.word_tokenize(text)\n",
        "\n",
        "    # Eliminar stopwords en inglés\n",
        "    stop_words = set(stopwords.words('english'))\n",
        "    filtered_tokens = [token for token in tokens if token not in stop_words]\n",
        "\n",
        "    # Lematizar los tokens\n",
        "    lemmatizer = WordNetLemmatizer()\n",
        "    lemmatized_tokens = [lemmatizer.lemmatize(token, get_wordnet_pos(token)) for token in filtered_tokens]\n",
        "\n",
        "    # Unir los tokens procesados en un texto procesado\n",
        "    processed_text = ' '.join(lemmatized_tokens)\n",
        "\n",
        "    return processed_text\n",
        "\n",
        "# Obtener la columna 'text' del DataFrame 'train' y 'test' donde 'language' es 'en'\n",
        "\n",
        "texts_train = train.loc[train['language'] == 'en', 'text']\n",
        "texts_test = test.loc[test['language'] == 'en', 'text']\n",
        "\n",
        "# Aplicar el preprocesamiento a cada texto en la columna 'text'\n",
        "preprocessed_texts_train = [preprocess_text(text) for text in texts_train]\n",
        "preprocessed_texts_test = [preprocess_text(text) for text in texts_test]\n",
        "\n",
        "# Crear un nuevo DataFrame con las columnas 'text' y 'task1' para train y test\n",
        "#en_df_train = pd.DataFrame({'text': preprocessed_texts_train, 'task1': train.loc[train['language'] == 'en', 'task1']})\n",
        "#en_df_test = pd.DataFrame({'text': preprocessed_texts_test, 'task1': test.loc[test['language'] == 'en', 'task1']})\n",
        "\n",
        "# Crear un nuevo DataFrame con las columnas 'old_text' (texto original), 'text' (texto preprocesado) y 'task1' para train y test\n",
        "en_df_train = pd.DataFrame({\n",
        "    'old_text': texts_train,  # Columna con el texto original\n",
        "    'text': preprocessed_texts_train,  # Columna con el texto preprocesado\n",
        "    'task1': train.loc[train['language'] == 'en', 'task1']\n",
        "})\n",
        "\n",
        "en_df_test = pd.DataFrame({\n",
        "    'old_text': texts_test,  # Columna con el texto original\n",
        "    'text': preprocessed_texts_test,  # Columna con el texto preprocesado\n",
        "    'task1': test.loc[test['language'] == 'en', 'task1']\n",
        "})\n",
        "\n"
      ],
      "metadata": {
        "colab": {
          "base_uri": "https://localhost:8080/"
        },
        "id": "5oYF_4y-uPqj",
        "outputId": "92530057-cb98-4731-fc9f-26de92d14767"
      },
      "execution_count": 4,
      "outputs": [
        {
          "output_type": "stream",
          "name": "stderr",
          "text": [
            "[nltk_data] Downloading package averaged_perceptron_tagger to\n",
            "[nltk_data]     /root/nltk_data...\n",
            "[nltk_data]   Package averaged_perceptron_tagger is already up-to-\n",
            "[nltk_data]       date!\n",
            "[nltk_data] Downloading package wordnet to /root/nltk_data...\n",
            "[nltk_data]   Package wordnet is already up-to-date!\n",
            "[nltk_data] Downloading package stopwords to /root/nltk_data...\n",
            "[nltk_data]   Package stopwords is already up-to-date!\n"
          ]
        }
      ]
    },
    {
      "cell_type": "code",
      "source": [
        "pd.set_option('display.max_columns', None)  # Mostrar todas las columnas\n",
        "pd.set_option('display.width', 1000)        # Ajustar el ancho máximo de la visualización\n",
        "pd.set_option('display.max_colwidth', 150)   # Ajustar el ancho máximo de las columnas\n",
        "\n",
        "print(en_df_train.head())"
      ],
      "metadata": {
        "colab": {
          "base_uri": "https://localhost:8080/"
        },
        "id": "RwjciL66dPS0",
        "outputId": "e318a291-c828-4d96-f826-8b15b2598265"
      },
      "execution_count": 9,
      "outputs": [
        {
          "output_type": "stream",
          "name": "stdout",
          "text": [
            "                                                                                                                                                old_text                                                                                                                                                   text       task1\n",
            "0  \"She calls herself \"\"anti-feminazi\"\" how about shut the fucking up on your vile commentary on an elderly responsible citizen tu sach muuch ghani b...                                        call antifeminazi shut fuck vile commentary elderly responsible citizen tu sach muuch ghani baawribewdi hai bey      sexist\n",
            "1  Now, back to these women, the brave and the beautiful, @Clare_Crawley and @tayshia. These bad ass babes, are deserve so much credit for how this s...                      back woman brave beautiful bad as babe deserve much credit season go woman ive learn much feel empower expect future relationship  non-sexist\n",
            "2                                                           @CurvyBandida @Xalynne_B Wow, your skirt is very short. What is it's length? 5 inch or more?                                                                                                                            wow skirt short length inch      sexist\n",
            "3  @AurelieGuiboud Incredible!  Beautiful!But I laughed so much when I read about you drifting in your wheelchair.I can just picture it  https://t.co...                                                                                      incredible beautifulbut laugh much read drift wheelchairi picture  non-sexist\n",
            "4  i find it extremely hard to believe that kelly or a 66 yr old mum would believe any of this, so it makes me question what the fuck their game was?...  find extremely hard believe kelly yr old mum would believe make question fuck game especially none apologise try explain immediate response like t...  non-sexist\n"
          ]
        }
      ]
    },
    {
      "cell_type": "code",
      "source": [
        "# Pre-procesamiento para el idioma Español.\n",
        "import re\n",
        "import spacy\n",
        "from nltk.corpus import wordnet\n",
        "from nltk.stem import WordNetLemmatizer\n",
        "from nltk.corpus import stopwords\n",
        "import pandas as pd\n",
        "\n",
        "# Descargar el modelo de SpaCy para el idioma español\n",
        "spacy.cli.download(\"es_core_news_sm\")\n",
        "\n",
        "# Cargar el modelo de SpaCy para el idioma español\n",
        "nlp = spacy.load(\"es_core_news_sm\")\n",
        "\n",
        "# Resto del código...\n",
        "\n",
        "# Función para tokenizar y lematizar el texto utilizando SpaCy\n",
        "def preprocess_text(text):\n",
        "    # Eliminar usuarios identificados por @\n",
        "    text = re.sub(r'@\\S+', '', text)\n",
        "\n",
        "    # Elimina URL's y links\n",
        "    text = re.sub(r'https?:\\/\\/\\S+', '', text)\n",
        "\n",
        "    text = re.sub(r\"www\\.[a-z]?\\.?(com)+|[a-z]+\\.(com)\", '', text)\n",
        "\n",
        "    # Elimina referencias link o video\n",
        "\n",
        "    text = re.sub(r'{link}', '', text)\n",
        "    text = re.sub(r\"\\[video\\]\", '', text)\n",
        "\n",
        "    # Elimina entidades HTML\n",
        "    text = re.sub(r'&[a-z]+;', '', text)\n",
        "\n",
        "    # Eliminar caracteres especiales y convertir a minúsculas\n",
        "    text = re.sub(r'[^a-zA-Z\\s]', '', text.lower())\n",
        "\n",
        "    # Elimnar los caracteres que no coincidan con el patrón\n",
        "    text = re.sub(r\"[^a-z\\s\\(\\-:\\)\\\\\\/\\];='#]\", '', text)\n",
        "\n",
        "    # Tokenizar el texto utilizando SpaCy\n",
        "    doc = nlp(text)\n",
        "    tokens = [token.lemma_ for token in doc]\n",
        "\n",
        "    # Eliminar stopwords en español\n",
        "    stop_words = set(stopwords.words('spanish'))\n",
        "    filtered_tokens = [token for token in tokens if token not in stop_words]\n",
        "\n",
        "    # Unir los tokens procesados en un texto procesado\n",
        "    processed_text = ' '.join(filtered_tokens)\n",
        "\n",
        "    return processed_text\n",
        "\n",
        "\n",
        "\n",
        "# Obtener la columna 'text' del DataFrame 'train' donde 'language' es 'es'\n",
        "texts_train = train[train['language'] == 'es']['text']\n",
        "texts_test = test[test['language'] == 'es']['text']\n",
        "\n",
        "# Aplicar el preprocesamiento a cada texto en la columna 'text'\n",
        "preprocessed_texts_train = [preprocess_text(text) for text in texts_train]\n",
        "preprocessed_texts_test = [preprocess_text(text) for text in texts_test]\n",
        "\n",
        "# Crear un nuevo DataFrame con la columna 'pre\n",
        "# Crear un nuevo DataFrame con las columnas 'text' y 'task1' para train y test\n",
        "es_df_train = pd.DataFrame({'text': preprocessed_texts_train, 'task1': train.loc[train['language'] == 'es', 'task1']})\n",
        "es_df_test = pd.DataFrame({'text': preprocessed_texts_test, 'task1': test.loc[test['language'] == 'es', 'task1']})"
      ],
      "metadata": {
        "colab": {
          "base_uri": "https://localhost:8080/"
        },
        "id": "OTt1zzIIwPYQ",
        "outputId": "79d49c81-48af-4ac6-c948-e1964fa91a05"
      },
      "execution_count": null,
      "outputs": [
        {
          "output_type": "stream",
          "name": "stdout",
          "text": [
            "\u001b[38;5;2m✔ Download and installation successful\u001b[0m\n",
            "You can now load the package via spacy.load('es_core_news_sm')\n"
          ]
        }
      ]
    },
    {
      "cell_type": "code",
      "source": [
        "print(es_df_test.head())"
      ],
      "metadata": {
        "colab": {
          "base_uri": "https://localhost:8080/"
        },
        "id": "FPDyshNvdekw",
        "outputId": "55614a9a-b06b-493b-d110-7c4d3deb3274"
      },
      "execution_count": null,
      "outputs": [
        {
          "output_type": "stream",
          "name": "stdout",
          "text": [
            "                                                   text       task1\n",
            "2208                            golpear ms fuerte perra      sexist\n",
            "2209     castigar tres mes salir chica venir casa notau  non-sexist\n",
            "2210      jajajaj haber topar onda   hacer mansplaining      sexist\n",
            "2211  resultar hoy ser da juventud quedar ms felicit...  non-sexist\n",
            "2212    decir creer igualdad feminismo actual ser he...      sexist\n"
          ]
        }
      ]
    },
    {
      "cell_type": "code",
      "source": [
        "# Combinación de los dataframes train y test de cada idioma\n",
        "combined_df_train = pd.concat([en_df_train, es_df_train])\n",
        "combined_df_train = combined_df_train.sample(frac=1).reset_index(drop=True)\n",
        "\n",
        "combined_df_test = pd.concat([en_df_test, es_df_test])\n",
        "combined_df_test = combined_df_test.sample(frac=1).reset_index(drop=True)"
      ],
      "metadata": {
        "id": "EcFi8iXLdi_v"
      },
      "execution_count": null,
      "outputs": []
    },
    {
      "cell_type": "code",
      "source": [
        "#Selección de tweets en Inglés.\n",
        "combined_df_train = en_df_train\n",
        "combined_df_train = combined_df_train.sample(frac=1).reset_index(drop=True)\n",
        "\n",
        "combined_df_test = en_df_test\n",
        "combined_df_test = combined_df_test.sample(frac=1).reset_index(drop=True)"
      ],
      "metadata": {
        "id": "USAbF1m1HjDD"
      },
      "execution_count": null,
      "outputs": []
    },
    {
      "cell_type": "code",
      "source": [
        "# Eliminación de palabras de 3 o menos caracteres\n",
        "import re\n",
        "\n",
        "# Definir la función de eliminación de palabras cortas\n",
        "def eliminar_palabras_cortas(text):\n",
        "    words = text.split()\n",
        "    filtered_words = [word for word in words if len(word) > 3]\n",
        "    filtered_text = ' '.join(filtered_words)\n",
        "    return filtered_text\n",
        "\n",
        "# Aplicar la eliminación de palabras cortas a la columna 'text'\n",
        "combined_df_train['text'] = combined_df_train['text'].apply(lambda x: eliminar_palabras_cortas(x))\n",
        "combined_df_test['text'] = combined_df_test['text'].apply(lambda x: eliminar_palabras_cortas(x))"
      ],
      "metadata": {
        "id": "zQFxRu_Adnm-"
      },
      "execution_count": null,
      "outputs": []
    },
    {
      "cell_type": "code",
      "source": [
        "combined_df_train.to_csv('clean_en_train_task1.csv', index=False, encoding='latin-1')"
      ],
      "metadata": {
        "id": "Llk-oDYbduFL"
      },
      "execution_count": null,
      "outputs": []
    },
    {
      "cell_type": "code",
      "source": [
        "print(combined_df_train.head())"
      ],
      "metadata": {
        "colab": {
          "base_uri": "https://localhost:8080/"
        },
        "id": "Gm1d6ABLdyz_",
        "outputId": "97d77b1d-7947-4d4c-9058-2526279258f4"
      },
      "execution_count": null,
      "outputs": [
        {
          "output_type": "stream",
          "name": "stdout",
          "text": [
            "                                                text       task1\n",
            "0  dont care dont care neither mindset come woman...  non-sexist\n",
            "1  yeah didnt anything drop vernon slag imacelebrity      sexist\n",
            "2  today feature winter course feminist community...  non-sexist\n",
            "3  pharmacy need much well valproate even licensi...  non-sexist\n",
            "4  make server wonder woman event free impossible...  non-sexist\n"
          ]
        }
      ]
    },
    {
      "cell_type": "markdown",
      "source": [
        "<font color=\"brown\"><h1>**Configuración**</h1></font>\n",
        "\n",
        "\n",
        "1.   Dividir los datos en texto y clases.\n",
        "2.   Convertir las etiquetas de la clase en valor númérico.\n",
        "3.   Vectorización Tf_Id para extraer las características del texto.\n",
        "\n"
      ],
      "metadata": {
        "id": "_kx1SVqEz8KW"
      }
    },
    {
      "cell_type": "code",
      "source": [
        "train_data = combined_df_train['text']\n",
        "test_data = combined_df_test['text']\n",
        "Y_train = combined_df_train['task1']\n",
        "Y_test = combined_df_test['task1']"
      ],
      "metadata": {
        "id": "DIbuxNxod3-t"
      },
      "execution_count": null,
      "outputs": []
    },
    {
      "cell_type": "code",
      "source": [
        "# Convertir las etiquetas en valores numéricos\n",
        "encoder = LabelEncoder()\n",
        "Y_train_encoded = encoder.fit_transform(Y_train)\n",
        "Y_test_encoded = encoder.fit_transform(Y_test)"
      ],
      "metadata": {
        "id": "6rmg6CZavFkk"
      },
      "execution_count": null,
      "outputs": []
    },
    {
      "cell_type": "code",
      "source": [
        "from sklearn.preprocessing import LabelEncoder\n",
        "\n",
        "# Tu proceso de codificación\n",
        "encoder = LabelEncoder()\n",
        "Y_test_encoded = encoder.fit_transform(Y_test)\n",
        "# Mapeo de etiquetas originales a valores numéricos\n",
        "label_mapping = dict(zip(encoder.classes_, encoder.transform(encoder.classes_)))\n",
        "print(label_mapping)\n"
      ],
      "metadata": {
        "id": "8IP7tzUIz215",
        "outputId": "8f628f34-6c7f-4094-8e33-d80f06cbe42b",
        "colab": {
          "base_uri": "https://localhost:8080/"
        }
      },
      "execution_count": null,
      "outputs": [
        {
          "output_type": "stream",
          "name": "stdout",
          "text": [
            "{'non-sexist': 0, 'sexist': 1}\n"
          ]
        }
      ]
    },
    {
      "cell_type": "code",
      "source": [
        "print(\"Mapeo de Categorías a Valores Numéricos:\\n\", label_mapping)\n"
      ],
      "metadata": {
        "id": "mQYvPpzZz4IQ",
        "outputId": "beb2a7ca-1c24-4a13-f044-e81a691e63b1",
        "colab": {
          "base_uri": "https://localhost:8080/"
        }
      },
      "execution_count": null,
      "outputs": [
        {
          "output_type": "stream",
          "name": "stdout",
          "text": [
            "Mapeo de Categorías a Valores Numéricos:\n",
            " {'non-sexist': 0, 'sexist': 1}\n"
          ]
        }
      ]
    },
    {
      "cell_type": "code",
      "source": [
        "import matplotlib.pyplot as plt\n",
        "\n",
        "# Crear un diagrama de barras\n",
        "plt.bar(label_mapping.keys(), label_mapping.values())\n",
        "plt.xlabel('Categoría Original')\n",
        "plt.ylabel('Valor Numérico Asignado')\n",
        "plt.title('Mapeo de Etiquetas Categóricas a Valores Numéricos')\n",
        "plt.xticks(rotation=45)  # Rotar etiquetas para mejor lectura\n",
        "plt.show()\n"
      ],
      "metadata": {
        "id": "BBLipDl6z7Mm",
        "outputId": "707fe20c-0a2a-48a0-d972-e21b1ddbf52b",
        "colab": {
          "base_uri": "https://localhost:8080/",
          "height": 519
        }
      },
      "execution_count": null,
      "outputs": [
        {
          "output_type": "display_data",
          "data": {
            "text/plain": [
              "<Figure size 640x480 with 1 Axes>"
            ],
            "image/png": "[encoded data removed]"
          },
          "metadata": {}
        }
      ]
    },
    {
      "cell_type": "code",
      "source": [
        "from sklearn.feature_extraction.text import TfidfVectorizer\n",
        "\n",
        "vectorizer = TfidfVectorizer()\n",
        "X_train_vectorized = vectorizer.fit_transform(train_data)\n",
        "X_test_vectorized = vectorizer.transform(test_data)\n"
      ],
      "metadata": {
        "id": "BnqfHoqjuCdx"
      },
      "execution_count": null,
      "outputs": []
    },
    {
      "cell_type": "markdown",
      "source": [
        "<font color=\"brown\"><h1>**Algoritmos**</h1></font>\n",
        "\n",
        "\n",
        "1.   Entrenamiento.\n",
        "2.   Predicción.\n",
        "3.   Evaluación del modelo.\n",
        "\n"
      ],
      "metadata": {
        "id": "6BVLe6fa0cHJ"
      }
    },
    {
      "cell_type": "markdown",
      "source": [
        "<font color=\"blue\"><h1>**SVC**</h1></font>\n",
        "\n",
        "1.   SVC con configuraciñon mínima.\n",
        "2.   SVC con ajuste de parámetros. Objetivo mejorar el modelo anterior.\n",
        "\n"
      ],
      "metadata": {
        "id": "2Nfm86En65fX"
      }
    },
    {
      "cell_type": "code",
      "source": [
        "# Ajuste mínimo\n",
        "from sklearn.svm import SVC\n",
        "\n",
        "model = SVC()\n",
        "model.fit(X_train_vectorized, Y_train_encoded)\n"
      ],
      "metadata": {
        "colab": {
          "base_uri": "https://localhost:8080/",
          "height": 75
        },
        "id": "jxXaJ6piuPZk",
        "outputId": "b24db177-5ace-48c6-c517-9a8643ed9ab1"
      },
      "execution_count": null,
      "outputs": [
        {
          "output_type": "execute_result",
          "data": {
            "text/plain": [
              "SVC()"
            ],
            "text/html": [
              "<style>#sk-container-id-1 {color: black;background-color: white;}#sk-container-id-1 pre{padding: 0;}#sk-container-id-1 div.sk-toggleable {background-color: white;}#sk-container-id-1 label.sk-toggleable__label {cursor: pointer;display: block;width: 100%;margin-bottom: 0;padding: 0.3em;box-sizing: border-box;text-align: center;}#sk-container-id-1 label.sk-toggleable__label-arrow:before {content: \"▸\";float: left;margin-right: 0.25em;color: #696969;}#sk-container-id-1 label.sk-toggleable__label-arrow:hover:before {color: black;}#sk-container-id-1 div.sk-estimator:hover label.sk-toggleable__label-arrow:before {color: black;}#sk-container-id-1 div.sk-toggleable__content {max-height: 0;max-width: 0;overflow: hidden;text-align: left;background-color: #f0f8ff;}#sk-container-id-1 div.sk-toggleable__content pre {margin: 0.2em;color: black;border-radius: 0.25em;background-color: #f0f8ff;}#sk-container-id-1 input.sk-toggleable__control:checked~div.sk-toggleable__content {max-height: 200px;max-width: 100%;overflow: auto;}#sk-container-id-1 input.sk-toggleable__control:checked~label.sk-toggleable__label-arrow:before {content: \"▾\";}#sk-container-id-1 div.sk-estimator input.sk-toggleable__control:checked~label.sk-toggleable__label {background-color: #d4ebff;}#sk-container-id-1 div.sk-label input.sk-toggleable__control:checked~label.sk-toggleable__label {background-color: #d4ebff;}#sk-container-id-1 input.sk-hidden--visually {border: 0;clip: rect(1px 1px 1px 1px);clip: rect(1px, 1px, 1px, 1px);height: 1px;margin: -1px;overflow: hidden;padding: 0;position: absolute;width: 1px;}#sk-container-id-1 div.sk-estimator {font-family: monospace;background-color: #f0f8ff;border: 1px dotted black;border-radius: 0.25em;box-sizing: border-box;margin-bottom: 0.5em;}#sk-container-id-1 div.sk-estimator:hover {background-color: #d4ebff;}#sk-container-id-1 div.sk-parallel-item::after {content: \"\";width: 100%;border-bottom: 1px solid gray;flex-grow: 1;}#sk-container-id-1 div.sk-label:hover label.sk-toggleable__label {background-color: #d4ebff;}#sk-container-id-1 div.sk-serial::before {content: \"\";position: absolute;border-left: 1px solid gray;box-sizing: border-box;top: 0;bottom: 0;left: 50%;z-index: 0;}#sk-container-id-1 div.sk-serial {display: flex;flex-direction: column;align-items: center;background-color: white;padding-right: 0.2em;padding-left: 0.2em;position: relative;}#sk-container-id-1 div.sk-item {position: relative;z-index: 1;}#sk-container-id-1 div.sk-parallel {display: flex;align-items: stretch;justify-content: center;background-color: white;position: relative;}#sk-container-id-1 div.sk-item::before, #sk-container-id-1 div.sk-parallel-item::before {content: \"\";position: absolute;border-left: 1px solid gray;box-sizing: border-box;top: 0;bottom: 0;left: 50%;z-index: -1;}#sk-container-id-1 div.sk-parallel-item {display: flex;flex-direction: column;z-index: 1;position: relative;background-color: white;}#sk-container-id-1 div.sk-parallel-item:first-child::after {align-self: flex-end;width: 50%;}#sk-container-id-1 div.sk-parallel-item:last-child::after {align-self: flex-start;width: 50%;}#sk-container-id-1 div.sk-parallel-item:only-child::after {width: 0;}#sk-container-id-1 div.sk-dashed-wrapped {border: 1px dashed gray;margin: 0 0.4em 0.5em 0.4em;box-sizing: border-box;padding-bottom: 0.4em;background-color: white;}#sk-container-id-1 div.sk-label label {font-family: monospace;font-weight: bold;display: inline-block;line-height: 1.2em;}#sk-container-id-1 div.sk-label-container {text-align: center;}#sk-container-id-1 div.sk-container {/* jupyter's `normalize.less` sets `[hidden] { display: none; }` but bootstrap.min.css set `[hidden] { display: none !important; }` so we also need the `!important` here to be able to override the default hidden behavior on the sphinx rendered scikit-learn.org. See: https://github.com/scikit-learn/scikit-learn/issues/21755 */display: inline-block !important;position: relative;}#sk-container-id-1 div.sk-text-repr-fallback {display: none;}</style><div id=\"sk-container-id-1\" class=\"sk-top-container\"><div class=\"sk-text-repr-fallback\"><pre>SVC()</pre><b>In a Jupyter environment, please rerun this cell to show the HTML representation or trust the notebook. <br />On GitHub, the HTML representation is unable to render, please try loading this page with nbviewer.org.</b></div><div class=\"sk-container\" hidden><div class=\"sk-item\"><div class=\"sk-estimator sk-toggleable\"><input class=\"sk-toggleable__control sk-hidden--visually\" id=\"sk-estimator-id-1\" type=\"checkbox\" checked><label for=\"sk-estimator-id-1\" class=\"sk-toggleable__label sk-toggleable__label-arrow\">SVC</label><div class=\"sk-toggleable__content\"><pre>SVC()</pre></div></div></div></div></div>"
            ]
          },
          "metadata": {},
          "execution_count": 15
        }
      ]
    },
    {
      "cell_type": "code",
      "source": [
        "y_pred = model.predict(X_test_vectorized)\n"
      ],
      "metadata": {
        "id": "_mawqK1ruaDW"
      },
      "execution_count": null,
      "outputs": []
    },
    {
      "cell_type": "code",
      "source": [
        "from sklearn.metrics import classification_report\n",
        "\n",
        "print(classification_report(Y_test_encoded, y_pred))\n"
      ],
      "metadata": {
        "colab": {
          "base_uri": "https://localhost:8080/"
        },
        "id": "Ei85GPs7udCh",
        "outputId": "fae3509a-e1ea-48d2-e673-08e756740854"
      },
      "execution_count": null,
      "outputs": [
        {
          "output_type": "stream",
          "name": "stdout",
          "text": [
            "              precision    recall  f1-score   support\n",
            "\n",
            "           0       0.66      0.76      0.71      1050\n",
            "           1       0.75      0.64      0.69      1158\n",
            "\n",
            "    accuracy                           0.70      2208\n",
            "   macro avg       0.70      0.70      0.70      2208\n",
            "weighted avg       0.71      0.70      0.70      2208\n",
            "\n"
          ]
        }
      ]
    },
    {
      "cell_type": "code",
      "source": [
        "# Ajustes de parámetros.\n",
        "# Definir los parámetros a ajustar\n",
        "model= SVC()\n",
        "parameters = {'C': [0.1, 1, 10],\n",
        "              'gamma': [0.1, 0.01, 0.001]}\n",
        "\n",
        "# Realizar la búsqueda de hiperparámetros utilizando validación cruzada\n",
        "grid_search = GridSearchCV(model, parameters, cv=5)\n",
        "grid_search.fit(X_train_vectorized, Y_train_encoded)\n",
        "\n",
        "# Obtener la mejor configuración de parámetros encontrada\n",
        "best_params = grid_search.best_params_\n",
        "# Crear el modelo final con los mejores parámetros\n",
        "final_model = SVC(**best_params)\n",
        "final_model.fit(X_train_vectorized, Y_train_encoded)"
      ],
      "metadata": {
        "colab": {
          "base_uri": "https://localhost:8080/",
          "height": 75
        },
        "id": "Ry6-0_7b31fg",
        "outputId": "63c39396-064c-4fcf-f510-175ea5609cb4"
      },
      "execution_count": null,
      "outputs": [
        {
          "output_type": "execute_result",
          "data": {
            "text/plain": [
              "SVC(C=10, gamma=0.1)"
            ],
            "text/html": [
              "<style>#sk-container-id-2 {color: black;background-color: white;}#sk-container-id-2 pre{padding: 0;}#sk-container-id-2 div.sk-toggleable {background-color: white;}#sk-container-id-2 label.sk-toggleable__label {cursor: pointer;display: block;width: 100%;margin-bottom: 0;padding: 0.3em;box-sizing: border-box;text-align: center;}#sk-container-id-2 label.sk-toggleable__label-arrow:before {content: \"▸\";float: left;margin-right: 0.25em;color: #696969;}#sk-container-id-2 label.sk-toggleable__label-arrow:hover:before {color: black;}#sk-container-id-2 div.sk-estimator:hover label.sk-toggleable__label-arrow:before {color: black;}#sk-container-id-2 div.sk-toggleable__content {max-height: 0;max-width: 0;overflow: hidden;text-align: left;background-color: #f0f8ff;}#sk-container-id-2 div.sk-toggleable__content pre {margin: 0.2em;color: black;border-radius: 0.25em;background-color: #f0f8ff;}#sk-container-id-2 input.sk-toggleable__control:checked~div.sk-toggleable__content {max-height: 200px;max-width: 100%;overflow: auto;}#sk-container-id-2 input.sk-toggleable__control:checked~label.sk-toggleable__label-arrow:before {content: \"▾\";}#sk-container-id-2 div.sk-estimator input.sk-toggleable__control:checked~label.sk-toggleable__label {background-color: #d4ebff;}#sk-container-id-2 div.sk-label input.sk-toggleable__control:checked~label.sk-toggleable__label {background-color: #d4ebff;}#sk-container-id-2 input.sk-hidden--visually {border: 0;clip: rect(1px 1px 1px 1px);clip: rect(1px, 1px, 1px, 1px);height: 1px;margin: -1px;overflow: hidden;padding: 0;position: absolute;width: 1px;}#sk-container-id-2 div.sk-estimator {font-family: monospace;background-color: #f0f8ff;border: 1px dotted black;border-radius: 0.25em;box-sizing: border-box;margin-bottom: 0.5em;}#sk-container-id-2 div.sk-estimator:hover {background-color: #d4ebff;}#sk-container-id-2 div.sk-parallel-item::after {content: \"\";width: 100%;border-bottom: 1px solid gray;flex-grow: 1;}#sk-container-id-2 div.sk-label:hover label.sk-toggleable__label {background-color: #d4ebff;}#sk-container-id-2 div.sk-serial::before {content: \"\";position: absolute;border-left: 1px solid gray;box-sizing: border-box;top: 0;bottom: 0;left: 50%;z-index: 0;}#sk-container-id-2 div.sk-serial {display: flex;flex-direction: column;align-items: center;background-color: white;padding-right: 0.2em;padding-left: 0.2em;position: relative;}#sk-container-id-2 div.sk-item {position: relative;z-index: 1;}#sk-container-id-2 div.sk-parallel {display: flex;align-items: stretch;justify-content: center;background-color: white;position: relative;}#sk-container-id-2 div.sk-item::before, #sk-container-id-2 div.sk-parallel-item::before {content: \"\";position: absolute;border-left: 1px solid gray;box-sizing: border-box;top: 0;bottom: 0;left: 50%;z-index: -1;}#sk-container-id-2 div.sk-parallel-item {display: flex;flex-direction: column;z-index: 1;position: relative;background-color: white;}#sk-container-id-2 div.sk-parallel-item:first-child::after {align-self: flex-end;width: 50%;}#sk-container-id-2 div.sk-parallel-item:last-child::after {align-self: flex-start;width: 50%;}#sk-container-id-2 div.sk-parallel-item:only-child::after {width: 0;}#sk-container-id-2 div.sk-dashed-wrapped {border: 1px dashed gray;margin: 0 0.4em 0.5em 0.4em;box-sizing: border-box;padding-bottom: 0.4em;background-color: white;}#sk-container-id-2 div.sk-label label {font-family: monospace;font-weight: bold;display: inline-block;line-height: 1.2em;}#sk-container-id-2 div.sk-label-container {text-align: center;}#sk-container-id-2 div.sk-container {/* jupyter's `normalize.less` sets `[hidden] { display: none; }` but bootstrap.min.css set `[hidden] { display: none !important; }` so we also need the `!important` here to be able to override the default hidden behavior on the sphinx rendered scikit-learn.org. See: https://github.com/scikit-learn/scikit-learn/issues/21755 */display: inline-block !important;position: relative;}#sk-container-id-2 div.sk-text-repr-fallback {display: none;}</style><div id=\"sk-container-id-2\" class=\"sk-top-container\"><div class=\"sk-text-repr-fallback\"><pre>SVC(C=10, gamma=0.1)</pre><b>In a Jupyter environment, please rerun this cell to show the HTML representation or trust the notebook. <br />On GitHub, the HTML representation is unable to render, please try loading this page with nbviewer.org.</b></div><div class=\"sk-container\" hidden><div class=\"sk-item\"><div class=\"sk-estimator sk-toggleable\"><input class=\"sk-toggleable__control sk-hidden--visually\" id=\"sk-estimator-id-2\" type=\"checkbox\" checked><label for=\"sk-estimator-id-2\" class=\"sk-toggleable__label sk-toggleable__label-arrow\">SVC</label><div class=\"sk-toggleable__content\"><pre>SVC(C=10, gamma=0.1)</pre></div></div></div></div></div>"
            ]
          },
          "metadata": {},
          "execution_count": 18
        }
      ]
    },
    {
      "cell_type": "code",
      "source": [
        "from sklearn.metrics import accuracy_score\n",
        "\n",
        "# Realizar la predicción en el conjunto de prueba\n",
        "Y_pred = final_model.predict(X_test_vectorized)\n",
        "\n",
        "# Calcular la precisión del modelo\n",
        "accuracy = accuracy_score(Y_test_encoded, Y_pred)\n",
        "\n",
        "# Imprimir la precisión del modelo\n",
        "print(\"Precisión del modelo: {:.2f}\".format(accuracy))\n",
        "\n",
        "# Generar el informe de clasificación\n",
        "classification_report = classification_report(Y_test_encoded, Y_pred)\n",
        "\n",
        "# Imprimir el informe de clasificación\n",
        "print(\"Informe de clasificación:\\n\", classification_report)\n"
      ],
      "metadata": {
        "colab": {
          "base_uri": "https://localhost:8080/"
        },
        "id": "nkQenCWO42Ui",
        "outputId": "6b650a4e-5c8a-4089-fb30-34b0fcd10279"
      },
      "execution_count": null,
      "outputs": [
        {
          "output_type": "stream",
          "name": "stdout",
          "text": [
            "Precisión del modelo: 0.70\n",
            "Informe de clasificación:\n",
            "               precision    recall  f1-score   support\n",
            "\n",
            "           0       0.67      0.69      0.68      1050\n",
            "           1       0.71      0.70      0.71      1158\n",
            "\n",
            "    accuracy                           0.70      2208\n",
            "   macro avg       0.69      0.70      0.69      2208\n",
            "weighted avg       0.70      0.70      0.70      2208\n",
            "\n"
          ]
        }
      ]
    },
    {
      "cell_type": "markdown",
      "source": [
        "<font color=\"blue\"><h1>**Random Forest**</h1></font>\n",
        "\n",
        "1.   Rf con configuraciñon mínima.\n",
        "2.   Rf con ajuste de parámetros. Objetivo mejorar el modelo anterior."
      ],
      "metadata": {
        "id": "RyCdkhnf7lm-"
      }
    },
    {
      "cell_type": "code",
      "source": [
        "# Rf con ajuste mínimo\n",
        "from sklearn.ensemble import RandomForestClassifier\n",
        "from sklearn.metrics import classification_report\n",
        "\n",
        "# Crear el modelo de Random Forest\n",
        "rf_model = RandomForestClassifier()\n",
        "\n",
        "# Entrenar el modelo\n",
        "rf_model.fit(X_train_vectorized, Y_train_encoded)\n",
        "\n",
        "# Realizar predicciones en el conjunto de prueba\n",
        "Y_pred_rf = rf_model.predict(X_test_vectorized)\n",
        "\n",
        "# Evaluar el modelo\n",
        "print(classification_report(Y_test_encoded, Y_pred_rf))\n"
      ],
      "metadata": {
        "colab": {
          "base_uri": "https://localhost:8080/"
        },
        "id": "DTjW_7bOwwKV",
        "outputId": "5d2f6c8b-d179-4ae2-fbc5-0b21c4506032"
      },
      "execution_count": null,
      "outputs": [
        {
          "output_type": "stream",
          "name": "stdout",
          "text": [
            "              precision    recall  f1-score   support\n",
            "\n",
            "           0       0.68      0.73      0.71      1050\n",
            "           1       0.74      0.69      0.71      1158\n",
            "\n",
            "    accuracy                           0.71      2208\n",
            "   macro avg       0.71      0.71      0.71      2208\n",
            "weighted avg       0.71      0.71      0.71      2208\n",
            "\n"
          ]
        }
      ]
    },
    {
      "cell_type": "code",
      "source": [
        "# Rf con ajuste de parámetros\n",
        "from sklearn.ensemble import RandomForestClassifier\n",
        "from sklearn.model_selection import GridSearchCV\n",
        "\n",
        "# Definir el modelo Random Forest\n",
        "model = RandomForestClassifier()\n",
        "\n",
        "# Definir los parámetros a ajustar\n",
        "parameters = {'n_estimators': [100, 200, 300],\n",
        "              'max_depth': [None, 5, 10],\n",
        "              'min_samples_split': [2, 5, 10],\n",
        "              'min_samples_leaf': [1, 2, 4]}\n",
        "\n",
        "# Realizar la búsqueda de hiperparámetros utilizando validación cruzada\n",
        "grid_search = GridSearchCV(model, parameters, cv=5)\n",
        "grid_search.fit(X_train_vectorized, Y_train_encoded)\n",
        "\n",
        "# Obtener la mejor configuración de parámetros encontrada\n",
        "best_params = grid_search.best_params_\n",
        "\n",
        "# Crear el modelo final con los mejores parámetros\n",
        "final_model = RandomForestClassifier(**best_params)\n",
        "final_model.fit(X_train_vectorized, Y_train_encoded)\n",
        "\n",
        "# Realizar predicciones en el conjunto de prueba\n",
        "Y_pred_rf = final_model.predict(X_test_vectorized)\n",
        "\n",
        "# Evaluar el modelo\n",
        "print(classification_report(Y_test_encoded, Y_pred_rf))\n"
      ],
      "metadata": {
        "id": "lcC8_nwh75CN",
        "colab": {
          "base_uri": "https://localhost:8080/"
        },
        "outputId": "26fd9e96-30f8-4b19-936c-7d4a6c511b10"
      },
      "execution_count": null,
      "outputs": [
        {
          "output_type": "stream",
          "name": "stdout",
          "text": [
            "              precision    recall  f1-score   support\n",
            "\n",
            "           0       0.68      0.71      0.69      1050\n",
            "           1       0.72      0.69      0.71      1158\n",
            "\n",
            "    accuracy                           0.70      2208\n",
            "   macro avg       0.70      0.70      0.70      2208\n",
            "weighted avg       0.70      0.70      0.70      2208\n",
            "\n"
          ]
        }
      ]
    },
    {
      "cell_type": "code",
      "source": [
        "from sklearn.metrics import classification_report\n",
        "Y_pred_rf = final_model.predict(X_test_vectorized)\n",
        "print(classification_report(Y_test_encoded, Y_pred_rf))\n"
      ],
      "metadata": {
        "colab": {
          "base_uri": "https://localhost:8080/"
        },
        "id": "_yG-YrL1Od2T",
        "outputId": "b8a23d35-56a0-4857-fa41-7283837330db"
      },
      "execution_count": null,
      "outputs": [
        {
          "output_type": "stream",
          "name": "stdout",
          "text": [
            "              precision    recall  f1-score   support\n",
            "\n",
            "           0       0.68      0.71      0.69      1050\n",
            "           1       0.72      0.69      0.71      1158\n",
            "\n",
            "    accuracy                           0.70      2208\n",
            "   macro avg       0.70      0.70      0.70      2208\n",
            "weighted avg       0.70      0.70      0.70      2208\n",
            "\n"
          ]
        }
      ]
    },
    {
      "cell_type": "markdown",
      "source": [
        "<font color=\"blue\"><h1>**Naive Bayes**</h1></font>\n",
        "\n",
        "1.   Nb con configuraciñon mínima.\n",
        "2.   Nb con ajuste de parámetros. Objetivo mejorar el modelo anterior."
      ],
      "metadata": {
        "id": "cj96f7OC7jU5"
      }
    },
    {
      "cell_type": "code",
      "source": [
        "# Nb con ajuste mínimo.\n",
        "from sklearn.naive_bayes import MultinomialNB\n",
        "from sklearn.metrics import classification_report\n",
        "\n",
        "# Crear el modelo de Multinomial Naive Bayes\n",
        "nb_model = MultinomialNB()\n",
        "\n",
        "# Entrenar el modelo\n",
        "nb_model.fit(X_train_vectorized, Y_train_encoded)\n",
        "\n",
        "# Realizar predicciones en el conjunto de prueba\n",
        "Y_pred_nb = nb_model.predict(X_test_vectorized)\n",
        "\n",
        "# Evaluar el modelo\n",
        "print(classification_report(Y_test_encoded, Y_pred_nb))\n"
      ],
      "metadata": {
        "colab": {
          "base_uri": "https://localhost:8080/"
        },
        "id": "_a8bLrXLw1a-",
        "outputId": "40a0b5f6-6f63-457a-cf4b-3e8d9d3f7fcd"
      },
      "execution_count": null,
      "outputs": [
        {
          "output_type": "stream",
          "name": "stdout",
          "text": [
            "              precision    recall  f1-score   support\n",
            "\n",
            "           0       0.63      0.72      0.67      1050\n",
            "           1       0.71      0.61      0.66      1158\n",
            "\n",
            "    accuracy                           0.66      2208\n",
            "   macro avg       0.67      0.67      0.66      2208\n",
            "weighted avg       0.67      0.66      0.66      2208\n",
            "\n"
          ]
        }
      ]
    },
    {
      "cell_type": "code",
      "source": [
        "# NB con ajustes de parámetros\n",
        "# Definir los parámetros a ajustar\n",
        "from sklearn.model_selection import GridSearchCV\n",
        "# Crear el modelo MultinomialNB\n",
        "model = MultinomialNB()\n",
        "\n",
        "parameters = {'alpha': [0.1, 0.5, 1.0]}\n",
        "\n",
        "# Realizar la búsqueda de hiperparámetros utilizando validación cruzada\n",
        "grid_search = GridSearchCV(model, parameters, cv=5)\n",
        "grid_search.fit(X_train_vectorized, Y_train_encoded)\n",
        "\n",
        "# Obtener la mejor configuración de parámetros encontrada\n",
        "best_params = grid_search.best_params_\n",
        "\n",
        "# Crear el modelo final con los mejores parámetros\n",
        "final_model = MultinomialNB(**best_params)\n",
        "final_model.fit(X_train_vectorized, Y_train_encoded)\n",
        "# Realizar predicciones en el conjunto de prueba\n",
        "Y_pred_nb = final_model.predict(X_test_vectorized)\n",
        "\n",
        "# Evaluar el modelo\n",
        "print(classification_report(Y_test_encoded, Y_pred_nb))"
      ],
      "metadata": {
        "colab": {
          "base_uri": "https://localhost:8080/"
        },
        "id": "ZJ0ZM4SRQNhr",
        "outputId": "cc235ace-8a06-4c96-bd4b-3e46189a0c76"
      },
      "execution_count": null,
      "outputs": [
        {
          "output_type": "stream",
          "name": "stdout",
          "text": [
            "              precision    recall  f1-score   support\n",
            "\n",
            "           0       0.63      0.72      0.67      1050\n",
            "           1       0.71      0.61      0.66      1158\n",
            "\n",
            "    accuracy                           0.66      2208\n",
            "   macro avg       0.67      0.67      0.66      2208\n",
            "weighted avg       0.67      0.66      0.66      2208\n",
            "\n"
          ]
        }
      ]
    },
    {
      "cell_type": "markdown",
      "source": [
        "<font color=\"blue\"><h1>**XGBoost**</h1></font>\n",
        "\n",
        "1.   Xg con configuraciñon mínima.\n",
        "2.   Xg con ajuste de parámetros. Objetivo mejorar el modelo anterior."
      ],
      "metadata": {
        "id": "KeGlGYm6SLEz"
      }
    },
    {
      "cell_type": "code",
      "source": [
        "#XGBoost con ajuste mínimo\n",
        "\n",
        "from xgboost import XGBClassifier\n",
        "from sklearn.metrics import classification_report\n",
        "\n",
        "# Crear el modelo de XGBoost\n",
        "xgb_model = XGBClassifier()\n",
        "\n",
        "# Entrenar el modelo\n",
        "xgb_model.fit(X_train_vectorized, Y_train_encoded)\n",
        "\n",
        "# Realizar predicciones en el conjunto de prueba\n",
        "Y_pred_xgb = xgb_model.predict(X_test_vectorized)\n",
        "\n",
        "# Evaluar el modelo\n",
        "print(classification_report(Y_test_encoded, Y_pred_xgb))\n"
      ],
      "metadata": {
        "colab": {
          "base_uri": "https://localhost:8080/"
        },
        "id": "bmlLPXxoxil9",
        "outputId": "eac2ff2d-016d-4826-c29c-6b55a119dad9"
      },
      "execution_count": null,
      "outputs": [
        {
          "output_type": "stream",
          "name": "stdout",
          "text": [
            "              precision    recall  f1-score   support\n",
            "\n",
            "           0       0.67      0.73      0.70      1050\n",
            "           1       0.73      0.68      0.71      1158\n",
            "\n",
            "    accuracy                           0.70      2208\n",
            "   macro avg       0.70      0.70      0.70      2208\n",
            "weighted avg       0.70      0.70      0.70      2208\n",
            "\n"
          ]
        }
      ]
    },
    {
      "cell_type": "code",
      "source": [
        "# XGBoost con ajustes de parámetros\n",
        "\n",
        "from xgboost import XGBClassifier\n",
        "from sklearn.model_selection import GridSearchCV\n",
        "\n",
        "# Crear el modelo XGBoost\n",
        "model = XGBClassifier()\n",
        "\n",
        "# Definir los parámetros a ajustar\n",
        "parameters = {'learning_rate': [0.001],\n",
        "              'max_depth': [3],\n",
        "              'n_estimators': [500]}\n",
        "\n",
        "# Realizar la búsqueda de hiperparámetros utilizando validación cruzada\n",
        "grid_search = GridSearchCV(model, parameters, cv=5)\n",
        "grid_search.fit(X_train_vectorized, Y_train_encoded)\n",
        "\n",
        "# Obtener la mejor configuración de parámetros encontrada\n",
        "best_params = grid_search.best_params_\n",
        "\n",
        "# Crear el modelo final con los mejores parámetros\n",
        "final_model = XGBClassifier(**best_params)\n",
        "final_model.fit(X_train_vectorized, Y_train_encoded)\n",
        "\n",
        "# Realizar predicciones en el conjunto de prueba\n",
        "Y_pred_xgb = final_model.predict(X_test_vectorized)\n",
        "\n",
        "# Evaluar el modelo\n",
        "print(classification_report(Y_test_encoded, Y_pred_xgb))\n"
      ],
      "metadata": {
        "colab": {
          "base_uri": "https://localhost:8080/"
        },
        "id": "B0mjaRvRSVxp",
        "outputId": "10c5048c-88ba-4191-ace6-3136c60934b8"
      },
      "execution_count": null,
      "outputs": [
        {
          "output_type": "stream",
          "name": "stdout",
          "text": [
            "              precision    recall  f1-score   support\n",
            "\n",
            "           0       0.56      0.80      0.66      1050\n",
            "           1       0.70      0.42      0.53      1158\n",
            "\n",
            "    accuracy                           0.60      2208\n",
            "   macro avg       0.63      0.61      0.59      2208\n",
            "weighted avg       0.63      0.60      0.59      2208\n",
            "\n"
          ]
        }
      ]
    },
    {
      "cell_type": "markdown",
      "source": [
        "<font color=\"blue\"><h1>**Conclusiones**</h1></font>\n",
        "\n",
        "Hay que tener en cuenta que la clase objetivo no está equilibrada, dando lugar a un conjunto de datos desequilibrado.\n",
        "\n",
        "Según los resultados se puede determinar que ***XGBoost*** es el modelo que muestra un desempeño generalmente mejor en términos de precisión, recall y f1-score.\n",
        "\n",
        "Para intentar mejorar los modelos iniciales se ha optado por ajustar los hiperparámetros.\n",
        "\n",
        "\n",
        "1.   SVC : se ha conseguido mejorar ligeramente el modelo.\n",
        "2.   RF : se consigue una mejora muy leve.\n",
        "3.   NB : hay mejora pero los scores conseguidos son justos.\n",
        "4.   XGBoost : en este caso con diferentes configuraciones de los parámetros no mejora el resultado anterior.\n",
        "\n",
        "\n",
        "\n"
      ],
      "metadata": {
        "id": "PoSHIJVbybv_"
      }
    },
    {
      "cell_type": "markdown",
      "source": [
        "Consideraciones:  \n",
        "\n",
        ".- Manejar la jerga de tweeter.\n",
        "\n",
        ".- Utilizar webembeddings.\n",
        "\n",
        "https://medium.com/@gourav.didwania/step-1-a-comprehensive-guide-to-text-cleaning-36ae5077f15"
      ],
      "metadata": {
        "id": "dMeAptsjY8Ol"
      }
    }
  ]
}